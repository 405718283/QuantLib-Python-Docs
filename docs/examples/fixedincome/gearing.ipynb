{
 "cells": [
  {
   "cell_type": "markdown",
   "metadata": {},
   "source": [
    "# Gearing in swaps"
   ]
  },
  {
   "cell_type": "code",
   "execution_count": 2,
   "metadata": {},
   "outputs": [],
   "source": [
    "import QuantLib as ql"
   ]
  },
  {
   "cell_type": "markdown",
   "metadata": {},
   "source": [
    "Create a relinkable yield term structure handle and build a curve"
   ]
  },
  {
   "cell_type": "code",
   "execution_count": 1,
   "metadata": {},
   "outputs": [
    {
     "output_type": "stream",
     "name": "stdout",
     "text": [
      "Floating leg NPV: 933,741.01\n\n"
     ]
    },
    {
     "output_type": "execute_result",
     "data": {
      "text/plain": [
       "   fixingDate accrualStart  accrualEnd paymentDate  gearing   forward  \\\n",
       "0  2021-06-11   2021-06-15  2021-12-15  2021-12-15      1.0  0.050641   \n",
       "1  2021-12-13   2021-12-15  2022-06-15  2022-06-15      1.0  0.050637   \n",
       "2  2022-06-13   2022-06-15  2022-12-15  2022-12-15      1.0  0.050641   \n",
       "3  2022-12-13   2022-12-15  2023-06-15  2023-06-15      1.0  0.050637   \n",
       "\n",
       "       rate         amount  \n",
       "0  0.050641  257424.241734  \n",
       "1  0.050637  255999.698407  \n",
       "2  0.050641  257424.241734  \n",
       "3  0.050637  255999.698407  "
      ],
      "text/html": "<div>\n<style scoped>\n    .dataframe tbody tr th:only-of-type {\n        vertical-align: middle;\n    }\n\n    .dataframe tbody tr th {\n        vertical-align: top;\n    }\n\n    .dataframe thead th {\n        text-align: right;\n    }\n</style>\n<table border=\"1\" class=\"dataframe\">\n  <thead>\n    <tr style=\"text-align: right;\">\n      <th></th>\n      <th>fixingDate</th>\n      <th>accrualStart</th>\n      <th>accrualEnd</th>\n      <th>paymentDate</th>\n      <th>gearing</th>\n      <th>forward</th>\n      <th>rate</th>\n      <th>amount</th>\n    </tr>\n  </thead>\n  <tbody>\n    <tr>\n      <th>0</th>\n      <td>2021-06-11</td>\n      <td>2021-06-15</td>\n      <td>2021-12-15</td>\n      <td>2021-12-15</td>\n      <td>1.0</td>\n      <td>0.050641</td>\n      <td>0.050641</td>\n      <td>257424.241734</td>\n    </tr>\n    <tr>\n      <th>1</th>\n      <td>2021-12-13</td>\n      <td>2021-12-15</td>\n      <td>2022-06-15</td>\n      <td>2022-06-15</td>\n      <td>1.0</td>\n      <td>0.050637</td>\n      <td>0.050637</td>\n      <td>255999.698407</td>\n    </tr>\n    <tr>\n      <th>2</th>\n      <td>2022-06-13</td>\n      <td>2022-06-15</td>\n      <td>2022-12-15</td>\n      <td>2022-12-15</td>\n      <td>1.0</td>\n      <td>0.050641</td>\n      <td>0.050641</td>\n      <td>257424.241734</td>\n    </tr>\n    <tr>\n      <th>3</th>\n      <td>2022-12-13</td>\n      <td>2022-12-15</td>\n      <td>2023-06-15</td>\n      <td>2023-06-15</td>\n      <td>1.0</td>\n      <td>0.050637</td>\n      <td>0.050637</td>\n      <td>255999.698407</td>\n    </tr>\n  </tbody>\n</table>\n</div>"
     },
     "metadata": {},
     "execution_count": 1
    }
   ],
   "source": [
    "import QuantLib as ql\n",
    "import pandas as pd\n",
    "\n",
    "yts = ql.YieldTermStructureHandle(ql.FlatForward(2, ql.TARGET(), 0.05, ql.Actual360()))\n",
    "engine = ql.DiscountingSwapEngine(yts)\n",
    "index = ql.USDLibor(ql.Period('6M'), yts)\n",
    "\n",
    "schedule = ql.MakeSchedule(ql.Date(15,6,2021), ql.Date(15,6,2023), ql.Period('6M'))\n",
    "nominal = [10e6]\n",
    "\n",
    "\n",
    "fixedLeg = ql.FixedRateLeg(schedule, index.dayCounter(), nominal, [0.05])\n",
    "floatingLeg = ql.IborLeg(nominal, schedule, index)\n",
    "swap = ql.Swap(fixedLeg, floatingLeg)\n",
    "swap.setPricingEngine(engine)\n",
    "\n",
    "print(f\"Floating leg NPV: {swap.legNPV(1):,.2f}\\n\")\n",
    "pd.DataFrame([{\n",
    "    'fixingDate': cf.fixingDate().ISO(),\n",
    "    'accrualStart': cf.accrualStartDate().ISO(),\n",
    "    'accrualEnd': cf.accrualEndDate().ISO(),\n",
    "    \"paymentDate\": cf.date().ISO(),\n",
    "    'gearing': cf.gearing(),\n",
    "    'forward': cf.indexFixing(),\n",
    "    'rate': cf.rate(),\n",
    "    \"amount\": cf.amount()\n",
    "} for cf in map(ql.as_floating_rate_coupon, swap.leg(1))])"
   ]
  },
  {
   "cell_type": "code",
   "execution_count": 2,
   "metadata": {},
   "outputs": [
    {
     "output_type": "stream",
     "name": "stdout",
     "text": [
      "Floating leg NPV: 653,618.71\n\n"
     ]
    },
    {
     "output_type": "execute_result",
     "data": {
      "text/plain": [
       "   fixingDate accrualStart  accrualEnd paymentDate  gearing   forward  \\\n",
       "0  2021-06-11   2021-06-15  2021-12-15  2021-12-15      0.7  0.050641   \n",
       "1  2021-12-13   2021-12-15  2022-06-15  2022-06-15      0.7  0.050637   \n",
       "2  2022-06-13   2022-06-15  2022-12-15  2022-12-15      0.7  0.050641   \n",
       "3  2022-12-13   2022-12-15  2023-06-15  2023-06-15      0.7  0.050637   \n",
       "\n",
       "       rate         amount  \n",
       "0  0.035449  180196.969214  \n",
       "1  0.035446  179199.788885  \n",
       "2  0.035449  180196.969214  \n",
       "3  0.035446  179199.788885  "
      ],
      "text/html": "<div>\n<style scoped>\n    .dataframe tbody tr th:only-of-type {\n        vertical-align: middle;\n    }\n\n    .dataframe tbody tr th {\n        vertical-align: top;\n    }\n\n    .dataframe thead th {\n        text-align: right;\n    }\n</style>\n<table border=\"1\" class=\"dataframe\">\n  <thead>\n    <tr style=\"text-align: right;\">\n      <th></th>\n      <th>fixingDate</th>\n      <th>accrualStart</th>\n      <th>accrualEnd</th>\n      <th>paymentDate</th>\n      <th>gearing</th>\n      <th>forward</th>\n      <th>rate</th>\n      <th>amount</th>\n    </tr>\n  </thead>\n  <tbody>\n    <tr>\n      <th>0</th>\n      <td>2021-06-11</td>\n      <td>2021-06-15</td>\n      <td>2021-12-15</td>\n      <td>2021-12-15</td>\n      <td>0.7</td>\n      <td>0.050641</td>\n      <td>0.035449</td>\n      <td>180196.969214</td>\n    </tr>\n    <tr>\n      <th>1</th>\n      <td>2021-12-13</td>\n      <td>2021-12-15</td>\n      <td>2022-06-15</td>\n      <td>2022-06-15</td>\n      <td>0.7</td>\n      <td>0.050637</td>\n      <td>0.035446</td>\n      <td>179199.788885</td>\n    </tr>\n    <tr>\n      <th>2</th>\n      <td>2022-06-13</td>\n      <td>2022-06-15</td>\n      <td>2022-12-15</td>\n      <td>2022-12-15</td>\n      <td>0.7</td>\n      <td>0.050641</td>\n      <td>0.035449</td>\n      <td>180196.969214</td>\n    </tr>\n    <tr>\n      <th>3</th>\n      <td>2022-12-13</td>\n      <td>2022-12-15</td>\n      <td>2023-06-15</td>\n      <td>2023-06-15</td>\n      <td>0.7</td>\n      <td>0.050637</td>\n      <td>0.035446</td>\n      <td>179199.788885</td>\n    </tr>\n  </tbody>\n</table>\n</div>"
     },
     "metadata": {},
     "execution_count": 2
    }
   ],
   "source": [
    "floatingLeg = ql.IborLeg(nominal, schedule, index, gearings=[0.7])\n",
    "swap = ql.Swap(fixedLeg, floatingLeg)\n",
    "swap.setPricingEngine(engine)\n",
    "\n",
    "print(f\"Floating leg NPV: {swap.legNPV(1):,.2f}\\n\")\n",
    "pd.DataFrame([{\n",
    "    'fixingDate': cf.fixingDate().ISO(),\n",
    "    'accrualStart': cf.accrualStartDate().ISO(),\n",
    "    'accrualEnd': cf.accrualEndDate().ISO(),\n",
    "    \"paymentDate\": cf.date().ISO(),\n",
    "    'gearing': cf.gearing(),\n",
    "    'forward': cf.indexFixing(),\n",
    "    'rate': cf.rate(),\n",
    "    \"amount\": cf.amount()\n",
    "} for cf in map(ql.as_floating_rate_coupon, swap.leg(1))])"
   ]
  },
  {
   "cell_type": "code",
   "execution_count": 4,
   "metadata": {},
   "outputs": [
    {
     "output_type": "stream",
     "name": "stdout",
     "text": [
      "Floating leg NPV: 653,618.71\n\n"
     ]
    },
    {
     "output_type": "execute_result",
     "data": {
      "text/plain": [
       "   fixingDate accrualStart  accrualEnd paymentDate  gearing   forward  \\\n",
       "0  2021-06-11   2021-06-15  2021-12-15  2021-12-15      1.0  0.050641   \n",
       "1  2021-12-13   2021-12-15  2022-06-15  2022-06-15      1.0  0.050637   \n",
       "2  2022-06-13   2022-06-15  2022-12-15  2022-12-15      1.0  0.050641   \n",
       "3  2022-12-13   2022-12-15  2023-06-15  2023-06-15      1.0  0.050637   \n",
       "\n",
       "       rate         amount  \n",
       "0  0.050641  180196.969214  \n",
       "1  0.050637  179199.788885  \n",
       "2  0.050641  180196.969214  \n",
       "3  0.050637  179199.788885  "
      ],
      "text/html": "<div>\n<style scoped>\n    .dataframe tbody tr th:only-of-type {\n        vertical-align: middle;\n    }\n\n    .dataframe tbody tr th {\n        vertical-align: top;\n    }\n\n    .dataframe thead th {\n        text-align: right;\n    }\n</style>\n<table border=\"1\" class=\"dataframe\">\n  <thead>\n    <tr style=\"text-align: right;\">\n      <th></th>\n      <th>fixingDate</th>\n      <th>accrualStart</th>\n      <th>accrualEnd</th>\n      <th>paymentDate</th>\n      <th>gearing</th>\n      <th>forward</th>\n      <th>rate</th>\n      <th>amount</th>\n    </tr>\n  </thead>\n  <tbody>\n    <tr>\n      <th>0</th>\n      <td>2021-06-11</td>\n      <td>2021-06-15</td>\n      <td>2021-12-15</td>\n      <td>2021-12-15</td>\n      <td>1.0</td>\n      <td>0.050641</td>\n      <td>0.050641</td>\n      <td>180196.969214</td>\n    </tr>\n    <tr>\n      <th>1</th>\n      <td>2021-12-13</td>\n      <td>2021-12-15</td>\n      <td>2022-06-15</td>\n      <td>2022-06-15</td>\n      <td>1.0</td>\n      <td>0.050637</td>\n      <td>0.050637</td>\n      <td>179199.788885</td>\n    </tr>\n    <tr>\n      <th>2</th>\n      <td>2022-06-13</td>\n      <td>2022-06-15</td>\n      <td>2022-12-15</td>\n      <td>2022-12-15</td>\n      <td>1.0</td>\n      <td>0.050641</td>\n      <td>0.050641</td>\n      <td>180196.969214</td>\n    </tr>\n    <tr>\n      <th>3</th>\n      <td>2022-12-13</td>\n      <td>2022-12-15</td>\n      <td>2023-06-15</td>\n      <td>2023-06-15</td>\n      <td>1.0</td>\n      <td>0.050637</td>\n      <td>0.050637</td>\n      <td>179199.788885</td>\n    </tr>\n  </tbody>\n</table>\n</div>"
     },
     "metadata": {},
     "execution_count": 4
    }
   ],
   "source": [
    "swapType = ql.VanillaSwap.Payer\n",
    "numDates = (len(schedule)-1)\n",
    "gearing = [0.7] * numDates\n",
    "spread = [0.0] * numDates\n",
    "fixedRateArray = [0.05] * numDates\n",
    "nominalArray = nominal * numDates\n",
    "nsSwap = ql.NonstandardSwap(\n",
    "    swapType, nominalArray, nominalArray,\n",
    "    schedule, fixedRateArray, index.dayCounter(),\n",
    "    schedule, index, gearing, spread, index.dayCounter())\n",
    "\n",
    "nsSwap.setPricingEngine(engine)\n",
    "print(f\"Floating leg NPV: {nsSwap.legNPV(1):,.2f}\\n\")\n",
    "pd.DataFrame([{\n",
    "    'fixingDate': cf.fixingDate().ISO(),\n",
    "    'accrualStart': cf.accrualStartDate().ISO(),\n",
    "    'accrualEnd': cf.accrualEndDate().ISO(),\n",
    "    \"paymentDate\": cf.date().ISO(),\n",
    "    'gearing': cf.gearing(),\n",
    "    'forward': cf.indexFixing(),\n",
    "    'rate': cf.rate(),\n",
    "    \"amount\": cf.amount()\n",
    "} for cf in map(ql.as_floating_rate_coupon, swap.leg(1))])"
   ]
  },
  {
   "cell_type": "code",
   "execution_count": null,
   "metadata": {},
   "outputs": [],
   "source": []
  }
 ],
 "metadata": {
  "kernelspec": {
   "display_name": "Python 3.7.6 64-bit ('sphx': conda)",
   "language": "python",
   "name": "python37664bitsphxcondaad2406a3d9da4560bbafc5d9351938d9"
  },
  "language_info": {
   "codemirror_mode": {
    "name": "ipython",
    "version": 3
   },
   "file_extension": ".py",
   "mimetype": "text/x-python",
   "name": "python",
   "nbconvert_exporter": "python",
   "pygments_lexer": "ipython3",
   "version": "3.7.6-final"
  }
 },
 "nbformat": 4,
 "nbformat_minor": 4
}