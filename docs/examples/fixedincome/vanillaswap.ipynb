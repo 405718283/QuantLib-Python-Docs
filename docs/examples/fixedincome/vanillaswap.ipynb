{
 "metadata": {
  "language_info": {
   "codemirror_mode": {
    "name": "ipython",
    "version": 3
   },
   "file_extension": ".py",
   "mimetype": "text/x-python",
   "name": "python",
   "nbconvert_exporter": "python",
   "pygments_lexer": "ipython3",
   "version": "3.7.6-final"
  },
  "orig_nbformat": 2,
  "kernelspec": {
   "name": "python37664bitsphxcondaad2406a3d9da4560bbafc5d9351938d9",
   "display_name": "Python 3.7.6 64-bit ('sphx': conda)"
  }
 },
 "nbformat": 4,
 "nbformat_minor": 2,
 "cells": [
  {
   "source": [
    "# Vanilla Swap"
   ],
   "cell_type": "markdown",
   "metadata": {}
  },
  {
   "cell_type": "code",
   "execution_count": 2,
   "metadata": {},
   "outputs": [],
   "source": [
    "import QuantLib as ql"
   ]
  },
  {
   "source": [
    "Create a relinkable yield term structure handle and build a curve"
   ],
   "cell_type": "markdown",
   "metadata": {}
  },
  {
   "cell_type": "code",
   "execution_count": 3,
   "metadata": {},
   "outputs": [],
   "source": [
    "yts = ql.RelinkableYieldTermStructureHandle()\n",
    "\n",
    "instruments = [\n",
    "    ('depo', '6M', 0.025),\n",
    "    ('fra', '6M', 0.03),\n",
    "    ('swap', '1Y', 0.031),\n",
    "    ('swap', '2Y', 0.032),\n",
    "    ('swap', '3Y', 0.035)\n",
    "]\n",
    "\n",
    "helpers = ql.RateHelperVector()\n",
    "index = ql.Euribor6M(yts)\n",
    "for instrument, tenor, rate in instruments:\n",
    "    if instrument == 'depo':\n",
    "        helpers.append( ql.DepositRateHelper(rate, index) )\n",
    "    if instrument == 'fra':\n",
    "        monthsToStart = ql.Period(tenor).length()\n",
    "        helpers.append( ql.FraRateHelper(rate, monthsToStart, index) )\n",
    "    if instrument == 'swap':\n",
    "        swapIndex = ql.EuriborSwapIsdaFixA(ql.Period(tenor))\n",
    "        helpers.append( ql.SwapRateHelper(rate, swapIndex))\n",
    "curve = ql.PiecewiseLogCubicDiscount(2, ql.TARGET(), helpers, ql.ActualActual())\n"
   ]
  },
  {
   "source": [
    "Link the built curve to the relinkable yield term structure handle and build a swap pricing engine"
   ],
   "cell_type": "markdown",
   "metadata": {}
  },
  {
   "cell_type": "code",
   "execution_count": 4,
   "metadata": {},
   "outputs": [],
   "source": [
    "yts.linkTo(curve)\n",
    "engine = ql.DiscountingSwapEngine(yts)\n"
   ]
  },
  {
   "source": [
    "Build a vanilla swap and provide a pricing engine"
   ],
   "cell_type": "markdown",
   "metadata": {}
  },
  {
   "cell_type": "code",
   "execution_count": 5,
   "metadata": {},
   "outputs": [],
   "source": [
    "tenor = ql.Period('2y')\n",
    "fixedRate = 0.05\n",
    "forwardStart = ql.Period(\"2D\")\n",
    "\n",
    "swap = ql.MakeVanillaSwap(tenor, index, fixedRate, forwardStart, Nominal=10e6, pricingEngine=engine)\n"
   ]
  },
  {
   "source": [
    "Get the fair rate and NPV"
   ],
   "cell_type": "markdown",
   "metadata": {}
  },
  {
   "cell_type": "code",
   "execution_count": 6,
   "metadata": {
    "tags": []
   },
   "outputs": [
    {
     "output_type": "stream",
     "name": "stdout",
     "text": "Fair swap rate: 3.232%\nSwap NPV: -337,608.498\n"
    }
   ],
   "source": [
    "fairRate = swap.fairRate()\n",
    "npv = swap.NPV()\n",
    "\n",
    "print(f\"Fair swap rate: {fairRate:.3%}\")\n",
    "print(f\"Swap NPV: {npv:,.3f}\")"
   ]
  },
  {
   "cell_type": "code",
   "execution_count": 10,
   "metadata": {},
   "outputs": [
    {
     "output_type": "display_data",
     "data": {
      "text/plain": "                date      amount\n0    April 6th, 2021  129,166.12\n1  October 5th, 2021  166,342.17\n2    April 5th, 2022 -100,976.64\n3  October 5th, 2022  455,178.07",
      "text/html": "<div>\n<style scoped>\n    .dataframe tbody tr th:only-of-type {\n        vertical-align: middle;\n    }\n\n    .dataframe tbody tr th {\n        vertical-align: top;\n    }\n\n    .dataframe thead th {\n        text-align: right;\n    }\n</style>\n<table border=\"1\" class=\"dataframe\">\n  <thead>\n    <tr style=\"text-align: right;\">\n      <th></th>\n      <th>date</th>\n      <th>amount</th>\n    </tr>\n  </thead>\n  <tbody>\n    <tr>\n      <th>0</th>\n      <td>April 6th, 2021</td>\n      <td>129,166.12</td>\n    </tr>\n    <tr>\n      <th>1</th>\n      <td>October 5th, 2021</td>\n      <td>166,342.17</td>\n    </tr>\n    <tr>\n      <th>2</th>\n      <td>April 5th, 2022</td>\n      <td>-100,976.64</td>\n    </tr>\n    <tr>\n      <th>3</th>\n      <td>October 5th, 2022</td>\n      <td>455,178.07</td>\n    </tr>\n  </tbody>\n</table>\n</div>"
     },
     "metadata": {}
    }
   ],
   "source": [
    "import pandas as pd\n",
    "pd.options.display.float_format = \"{:,.2f}\".format\n",
    "\n",
    "cashflows = pd.DataFrame({\n",
    "    'date': cf.date(),\n",
    "    'amount': cf.amount()\n",
    "    } for cf in swap.leg(1))\n",
    "display(cashflows)"
   ]
  },
  {
   "cell_type": "code",
   "execution_count": 23,
   "metadata": {},
   "outputs": [
    {
     "output_type": "display_data",
     "data": {
      "text/plain": "        nominal accrualStartDate accrualEndDate  rate      amount\n0 10,000,000.00       2020-10-05     2021-04-06  0.03  129,166.12\n1 10,000,000.00       2021-04-06     2021-10-05  0.03  166,342.17\n2 10,000,000.00       2021-10-05     2022-04-05 -0.02 -100,976.64\n3 10,000,000.00       2022-04-05     2022-10-05  0.09  455,178.07",
      "text/html": "<div>\n<style scoped>\n    .dataframe tbody tr th:only-of-type {\n        vertical-align: middle;\n    }\n\n    .dataframe tbody tr th {\n        vertical-align: top;\n    }\n\n    .dataframe thead th {\n        text-align: right;\n    }\n</style>\n<table border=\"1\" class=\"dataframe\">\n  <thead>\n    <tr style=\"text-align: right;\">\n      <th></th>\n      <th>nominal</th>\n      <th>accrualStartDate</th>\n      <th>accrualEndDate</th>\n      <th>rate</th>\n      <th>amount</th>\n    </tr>\n  </thead>\n  <tbody>\n    <tr>\n      <th>0</th>\n      <td>10,000,000.00</td>\n      <td>2020-10-05</td>\n      <td>2021-04-06</td>\n      <td>0.03</td>\n      <td>129,166.12</td>\n    </tr>\n    <tr>\n      <th>1</th>\n      <td>10,000,000.00</td>\n      <td>2021-04-06</td>\n      <td>2021-10-05</td>\n      <td>0.03</td>\n      <td>166,342.17</td>\n    </tr>\n    <tr>\n      <th>2</th>\n      <td>10,000,000.00</td>\n      <td>2021-10-05</td>\n      <td>2022-04-05</td>\n      <td>-0.02</td>\n      <td>-100,976.64</td>\n    </tr>\n    <tr>\n      <th>3</th>\n      <td>10,000,000.00</td>\n      <td>2022-04-05</td>\n      <td>2022-10-05</td>\n      <td>0.09</td>\n      <td>455,178.07</td>\n    </tr>\n  </tbody>\n</table>\n</div>"
     },
     "metadata": {}
    }
   ],
   "source": [
    "cashflows = pd.DataFrame({\n",
    "    'nominal': cf.nominal(),\n",
    "    'accrualStartDate': cf.accrualStartDate().ISO(),\n",
    "    'accrualEndDate': cf.accrualEndDate().ISO(),\n",
    "    'rate': cf.rate(),\n",
    "    'amount': cf.amount()\n",
    "    } for cf in map(ql.as_coupon, swap.leg(1)))\n",
    "display(cashflows)"
   ]
  }
 ]
}